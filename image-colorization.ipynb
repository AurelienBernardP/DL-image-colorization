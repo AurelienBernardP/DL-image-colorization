{
 "cells": [
  {
   "cell_type": "markdown",
   "metadata": {},
   "source": [
    "Image colorization project :\n",
    "We train a CNN to take in greyscale images of ... and output their colorful and plausible colorization."
   ]
  },
  {
   "cell_type": "markdown",
   "metadata": {},
   "source": [
    "Imports required :\n",
    "\n",
    "torch\n",
    "\n",
    "skimage ? only used for rgb - lab parsing. Maybe we can do that ourselves to make some differentiation with the original project?\n",
    "\n",
    "numpy\n",
    "\n",
    "matplotlib\n",
    "\n",
    "PIL ? only used to open images to rgb. We can use another library"
   ]
  },
  {
   "cell_type": "code",
   "execution_count": null,
   "metadata": {},
   "outputs": [],
   "source": [
    "import matplotlib.pyplot as plt \n",
    "import numpy as np\n",
    "from PIL import Image\n",
    "from skimage import color\n",
    "from scipy.ndimage import gaussian_filter\n",
    "\n",
    "import torch\n",
    "import torch.nn as nn\n",
    "import torch.utils.data as data\n",
    "import torch.nn.functional as F"
   ]
  },
  {
   "cell_type": "markdown",
   "metadata": {},
   "source": [
    "## Load data, augment it, transform it to LAB compute stats on colors"
   ]
  },
  {
   "cell_type": "code",
   "execution_count": null,
   "metadata": {},
   "outputs": [],
   "source": [
    "#Data loading\n",
    "from torchvision import datasets, transforms, utils\n",
    "\n",
    "transform = transforms.Compose([\n",
    "    transforms.Resize(255),\n",
    "    transforms.CenterCrop(224),\n",
    "    transforms.PILToTensor(),\n",
    "])\n",
    "\n",
    "dataset = datasets.ImageFolder(\"dataset_updated/training_set/train\",transform=transform)\n",
    "loader = data.DataLoader(dataset, batch_size = 4, shuffle = True)\n",
    "\n",
    "images, labels = next(iter(loader))\n",
    "\n",
    "\n",
    "img = images[0]\n",
    "plt.imshow(transforms.functional.to_pil_image(img))\n",
    "plt.show()\n",
    "print(img)\n",
    "img2 = img.numpy()"
   ]
  },
  {
   "cell_type": "code",
   "execution_count": 41,
   "metadata": {},
   "outputs": [
    {
     "name": "stdout",
     "output_type": "stream",
     "text": [
      "(224, 224, 3)\n",
      "[[[ 1.46725610e+01  3.60816171e+00  5.82291207e+00]\n",
      "  [ 1.43208430e+01  4.13870425e+00  6.04644904e+00]\n",
      "  [ 1.36856276e+01  3.48247125e+00  6.55647788e+00]\n",
      "  ...\n",
      "  [ 1.84701844e+01  3.01822967e+00  1.18599931e+01]\n",
      "  [ 1.79040248e+01  2.67476392e+00  1.10685817e+01]\n",
      "  [ 1.73039644e+01  5.99268088e+00  1.17109758e+01]]\n",
      "\n",
      " [[ 1.47990238e+01  4.11321245e+00  6.01787899e+00]\n",
      "  [ 1.38409047e+01  4.16497686e+00  6.07580889e+00]\n",
      "  [ 1.28756113e+01  4.22002659e+00  6.13705653e+00]\n",
      "  ...\n",
      "  [ 1.75208721e+01  2.94477213e+00  1.25944937e+01]\n",
      "  [ 1.84495627e+01  2.88233733e+00  1.25047673e+01]\n",
      "  [ 1.92611223e+01  6.20639220e+00  1.23687417e+01]]\n",
      "\n",
      " [[ 1.55058017e+01  4.92961996e+00  7.05480507e+00]\n",
      "  [ 1.58243047e+01  4.23282059e+00  7.49206517e+00]\n",
      "  [ 1.50314004e+01  4.95999562e+00  7.08804115e+00]\n",
      "  ...\n",
      "  [ 1.82385698e+01  3.94590309e+00  1.29255625e+01]\n",
      "  [ 1.89117808e+01  2.85256433e+00  1.24610663e+01]\n",
      "  [ 1.78818844e+01  6.33547148e+00  1.25155316e+01]]\n",
      "\n",
      " ...\n",
      "\n",
      " [[ 1.87895313e+01  2.34053857e+00  1.22781962e+01]\n",
      "  [ 2.00781369e+01  3.80982228e+00  1.27444485e+01]\n",
      "  [ 1.95622457e+01  3.46503837e+00  1.46961313e+01]\n",
      "  ...\n",
      "  [ 1.37503358e+01 -9.35448031e-03  1.50719211e+00]\n",
      "  [ 1.27770141e+01 -8.52770545e-03  1.51993173e+00]\n",
      "  [ 1.29318838e+01  5.18796012e-01  3.21969617e+00]]\n",
      "\n",
      " [[ 2.01834558e+01  4.18793232e+00  1.35683709e+01]\n",
      "  [ 1.91834795e+01  5.72610213e+00  1.49275157e+01]\n",
      "  [ 1.82323789e+01  5.60963291e+00  1.62971239e+01]\n",
      "  ...\n",
      "  [ 1.51956465e+01 -1.04508383e-02  1.48922438e+00]\n",
      "  [ 1.27770141e+01 -8.52770545e-03  1.51993173e+00]\n",
      "  [ 1.23012732e+01 -1.86701814e-01  3.74335231e+00]]\n",
      "\n",
      " [[ 2.06626662e+01  5.98696135e+00  1.55961162e+01]\n",
      "  [ 1.81741269e+01  7.13758800e+00  1.75757423e+01]\n",
      "  [ 1.75342633e+01  8.22941568e+00  1.85941038e+01]\n",
      "  ...\n",
      "  [ 1.47157705e+01 -1.01028958e-02  1.49507030e+00]\n",
      "  [ 1.17954028e+01 -7.61092146e-03  1.53334915e+00]\n",
      "  [ 1.18098158e+01 -1.84806244e-01  3.76020838e+00]]]\n"
     ]
    }
   ],
   "source": [
    "#LAB transform\n",
    "\n",
    "def rgb2lab(img):\n",
    "    #INPUT RGB image of shape (3,H,W)\n",
    "    #OUTPUT LAB image of shape (H,W,3)\n",
    "\n",
    "    return np.transpose(color.rgb2lab(img,channel_axis = 0,),(1,2,0))\n",
    "\n",
    "print(rgb2lab(img2).shape) \n",
    "print(rgb2lab(img2)) \n",
    "\n"
   ]
  },
  {
   "cell_type": "markdown",
   "metadata": {},
   "source": [
    "### Color stats"
   ]
  },
  {
   "cell_type": "code",
   "execution_count": null,
   "metadata": {},
   "outputs": [],
   "source": [
    "#Color stats (auxiliary functions)\n",
    "\n",
    "def getDiscretisedColor(a,b,gridSize):\n",
    "    a = np.round(a/gridSize) * gridSize\n",
    "    b = np.round(b/gridSize) * gridSize\n",
    "    return (a,b)\n",
    "\n",
    "def getMatrixIndex(a,b,gridSize):\n",
    "    i = (a + 500) / gridSize\n",
    "    j = (b + 200) / gridSize\n",
    "    return (int(i),int(j))\n",
    "\n",
    "def getColorValue(i,j,gridSize):\n",
    "    a = i * gridSize - 500\n",
    "    b = j * gridSize - 200\n",
    "    return (a,b)"
   ]
  },
  {
   "cell_type": "code",
   "execution_count": null,
   "metadata": {},
   "outputs": [],
   "source": [
    "#Color stats\n",
    "\n",
    "# need dataset express like that: list of images (as tensor) with dim H x W x 2 ...\n",
    "#image_test = rgb2lab(img2) # need to change dim order of color stat code... ?\n",
    "#images = [np.random.rand(3,3,2) * 100]\n",
    "#images = [image_test[:][:][1:2]]\n",
    "#print(image_test.shape)\n",
    "#print(images[0])\n",
    "\n",
    "# Initialise the proba distribution of ab pairs in the images dataset (discretised).\n",
    "gridSize = 10 # too big ?\n",
    "colorProbabilities = np.zeros((1000 // gridSize, 400 // gridSize))\n",
    "\n",
    "# Compute the proba distribution of the ab pairs in the images dataset (discretised).\n",
    "nbOfAnalysedPixels = 0\n",
    "for images in loader:\n",
    "    for image in images[0]: # strange... is it ok ?\n",
    "        image = image.numpy()\n",
    "        image = rgb2lab(image)[:][:][1:2]\n",
    "        for h in range (image.shape[0]):\n",
    "            for w in range (image.shape[1]):\n",
    "                (a,b) = getDiscretisedColor(image[h][w][0],image[h][w][1],gridSize)\n",
    "                (i,j) = getMatrixIndex(a,b,gridSize)\n",
    "                colorProbabilities[i][j] += 1\n",
    "                nbOfAnalysedPixels += 1\n",
    "colorProbabilities = colorProbabilities / nbOfAnalysedPixels\n",
    "\n",
    "# Smooth the proba distribution of the ab pairs in the images dataset.\n",
    "sigma = 5 # gaussian kernel parameter\n",
    "#colorProbabilities = gaussian_filter(colorProbabilities, sigma=sigma) # is it ok ? add a lot of value in gamut... take proba treshold ?\n",
    "\n",
    "# + display distribution in 2d plot ? like in paper (here, very simple)\n",
    "plt.imshow(colorProbabilities, interpolation='none')\n",
    "plt.xlim(10, 30) # need to be dynamic !\n",
    "plt.ylim(40, 70)\n",
    "plt.show()\n",
    "\n",
    "# Get the vector of proba of ab pairs that are \"in gamut\"\n",
    "inGamutColors = []\n",
    "inGamutColorsProbas = []\n",
    "for i in range (colorProbabilities.shape[0]):\n",
    "    for j in range (colorProbabilities.shape[1]):\n",
    "        currentColorPorba = colorProbabilities[i][j]\n",
    "        if currentColorPorba >= 0.001: # put a treshold ? if we use smoothing \n",
    "            (a,b) = getColorValue(i,j,gridSize)\n",
    "            inGamutColors.append((a,b))\n",
    "            inGamutColorsProbas.append(currentColorPorba)\n",
    "        \n",
    "Q = len(inGamutColors) \n",
    "p_smooth = torch.tensor(inGamutColorsProbas)\n",
    "print(Q)\n",
    "print(inGamutColors)\n",
    "print(inGamutColorsProbas)\n",
    "Q = 1 # to remove\n"
   ]
  },
  {
   "cell_type": "markdown",
   "metadata": {},
   "source": [
    "### Class rebalancing"
   ]
  },
  {
   "cell_type": "code",
   "execution_count": null,
   "metadata": {},
   "outputs": [],
   "source": [
    "#Define pixel weight vector (class rebalancing)\n",
    "\n",
    "# Set the parameters (from paper, need empirical value).\n",
    "lambda_uniform = 1/2 \n",
    "\n",
    "# Compute a smooth version of the empirical pixel color distribution.\n",
    "#p_smooth = p # how to do that ? gaussian kernel ? done at previous cell...\n",
    "\n",
    "# Compute the weight vector.\n",
    "pixelsWeights = torch.reciprocal((1 - lambda_uniform) * p_smooth + lambda_uniform / Q)\n",
    "\n",
    "# Normalise the weight vector according to p_smooth (E[W] = 1).\n",
    "E_W = torch.sum(p_smooth * pixelsWeights)\n",
    "scale_factor = 1 / E_W\n",
    "pixelsWeights = scale_factor * pixelsWeights \n",
    "\n",
    "print(pixelsWeights)"
   ]
  },
  {
   "cell_type": "markdown",
   "metadata": {},
   "source": [
    "## Define and instantiate Convolutional NN consistent with the description of the paper. Shown in table 4."
   ]
  },
  {
   "cell_type": "code",
   "execution_count": null,
   "metadata": {},
   "outputs": [],
   "source": [
    "#NN def\n",
    "\n",
    "class ColorizationCNN(nn.Module):\n",
    "    def __init__(self):\n",
    "        super().__init__()\n",
    "\n",
    "        self.l_cent = 50.\n",
    "        self.l_norm = 100.\n",
    "        self.ab_norm = 110.\n",
    "        \n",
    "        channels_block_1 = 64\n",
    "        channels_block_2 = 128\n",
    "        channels_block_3 = 256\n",
    "        channels_block_4 = 512\n",
    "        channels_block_5 = 512 #dilated\n",
    "        channels_block_6 = 512 #dilated\n",
    "        channels_block_7 = 512 \n",
    "        channels_block_8 = 128 # transpose convolution necessary\n",
    "\n",
    "        nb_colour_bins = 313\n",
    "        # first conv block : 2 convs. from luminosity image to 64 features map from 3x3 kernels. 50% downsampling and normalization at the end.\n",
    "        self.convBlock1 = nn.Sequential(nn.Conv2d(1,channels_block_1,(3,3), padding =1), \n",
    "                nn.ReLU(True), #inplace for memory efficiency can be used as no skip connections are used.\n",
    "                nn.Conv2d(channels_block_1,channels_block_1,(3,3), padding =1,stride=2), #50% downsampling achieved with a 2 stride. \n",
    "                nn.ReLU(True),\n",
    "                nn.BatchNorm2d(channels_block_1) #normalization over the 64 channels created\n",
    "        )\n",
    "\n",
    "        # second conv block. 2 covs. from 64 features to 128 features map from 3x3 kernels. 50% downsampling and normalization at the end.\n",
    "        self.convBlock2 = nn.Sequential(nn.Conv2d(64,channels_block_2,(3,3), padding =1,), \n",
    "                nn.ReLU(True),\n",
    "                nn.Conv2d(channels_block_2,channels_block_2,(3,3), padding =1,stride=2), #50% downsampling achieved with a 2 stride. \n",
    "                nn.ReLU(True),\n",
    "                nn.BatchNorm2d(channels_block_2)\n",
    "        )\n",
    "\n",
    "        # third conv block. 3 convs. from 64 to 128 features map from 3x3 kernels. 50% downsampling and normalization at the end.\n",
    "        self.convBlock3 = nn.Sequential(nn.Conv2d(channels_block_2,channels_block_3,(3,3), padding = 1,), \n",
    "                nn.ReLU(True),\n",
    "                nn.Conv2d(channels_block_3,channels_block_3,(3,3), padding =1),\n",
    "                nn.ReLU(True),\n",
    "                nn.Conv2d(channels_block_3,channels_block_3,(3,3), padding =1,stride=2), #50% downsampling achieved with a 2 stride. \n",
    "                nn.ReLU(True),\n",
    "                nn.BatchNorm2d(channels_block_3)\n",
    "        )\n",
    "\n",
    "        # fourth conv block. 3 convs. from 256 to 512 features map from 3x3 kernels. 50% downsampling and normalization at the end.\n",
    "        self.convBlock4 = nn.Sequential(nn.Conv2d(channels_block_3,channels_block_4,(3,3), padding =1,),\n",
    "                nn.ReLU(True),\n",
    "                nn.Conv2d(channels_block_4,channels_block_4,(3,3), padding = 1),\n",
    "                nn.ReLU(True),\n",
    "                nn.Conv2d(channels_block_4,channels_block_4,(3,3), padding = 1), #50% downsampling achieved with a 2 stride. \n",
    "                nn.ReLU(True),\n",
    "                nn.BatchNorm2d(channels_block_4)\n",
    "        )\n",
    "        \n",
    "        #fifth conv block. 3 convs. no change in nb feature maps. 3x3 kernels with 2 dilation and 2 padding to not downscale. normalization at the end.\n",
    "\n",
    "        self.convBlock5 = nn.Sequential(nn.Conv2d(channels_block_4,channels_block_5,(3,3),dilation=2,padding=2),\n",
    "                nn.ReLU(True),\n",
    "                nn.Conv2d(channels_block_5,channels_block_5,(3,3),dilation=2,padding=2),\n",
    "                nn.ReLU(True),\n",
    "                nn.Conv2d(channels_block_5,channels_block_5,(3,3),dilation=2,padding=2), #50% downsampling achieved with a 2 stride. \n",
    "                nn.ReLU(True),\n",
    "                nn.BatchNorm2d(channels_block_5)\n",
    "        )\n",
    "\n",
    "        #sixth conv block. same as 5\n",
    "        self.convBlock6 = nn.Sequential(nn.Conv2d(channels_block_5,channels_block_6,(3,3),dilation=2,padding=2),\n",
    "                nn.ReLU(True),\n",
    "                nn.Conv2d(channels_block_6,channels_block_6,(3,3),dilation=2,padding=2),\n",
    "                nn.ReLU(True),\n",
    "                nn.Conv2d(channels_block_6,channels_block_6,(3,3),dilation=2,padding=2), #50% downsampling achieved with a 2 stride. \n",
    "                nn.ReLU(True),\n",
    "                nn.BatchNorm2d(channels_block_6)\n",
    "        )\n",
    "\n",
    "        #seventh conv block : 3 convs with 3x3 kernels.\n",
    "        self.convBlock7 = nn.Sequential(nn.Conv2d(channels_block_6,channels_block_7,(3,3),padding =1,),\n",
    "                nn.ReLU(True),\n",
    "                nn.Conv2d(channels_block_7,channels_block_7,(3,3),padding =1,),\n",
    "                nn.ReLU(True),\n",
    "                nn.Conv2d(channels_block_7,channels_block_7,(3,3),padding =1,), #50% downsampling achieved with a 2 stride. \n",
    "                nn.ReLU(True),\n",
    "                nn.BatchNorm2d(channels_block_7)\n",
    "        )\n",
    "\n",
    "        #eighth conv block : 1 inverse conv to upsample then 2 convs with 3x3 kernels default parameters. Final convolution with 1x1 for classification into a colour bin\n",
    "        self.convBlock8 = nn.Sequential(nn.ConvTranspose2d(channels_block_7,channels_block_8,(4,4),stride = 2, padding =1),\n",
    "                nn.ReLU(True),\n",
    "                nn.Conv2d(channels_block_8,channels_block_8,(3,3),padding = 1),\n",
    "                nn.ReLU(True),\n",
    "                nn.Conv2d(channels_block_8,channels_block_8,(3,3),padding = 1), #50% downsampling achieved with a 2 stride. \n",
    "                nn.ReLU(True),\n",
    "                nn.Conv2d(channels_block_8,nb_colour_bins,kernel_size=1) #1x1 kernel for classification in each colour bin (value will be soft maxed for probability)\n",
    "        )\n",
    "\n",
    "        self.outputLayer = nn.Conv2d(nb_colour_bins,2,kernel_size=1,dilation=1, bias = False) # 1x1 kernel to get 2 channel values of a and b respectively\n",
    "    \n",
    "    def forward(self, luminosity_image):\n",
    "        h1 = self.convBlock1((luminosity_image-self.l_cent)/self.l_norm) #normalize luminosity to be on scale of 0 to 100\n",
    "        h2 = self.convBlock2(h1)\n",
    "        h3 = self.convBlock3(h2)\n",
    "        h4 = self.convBlock4(h3)\n",
    "        h5 = self.convBlock5(h4)\n",
    "        h6 = self.convBlock6(h5)\n",
    "        h7 = self.convBlock7(h6)\n",
    "        h8 = self.convBlock8(h7)\n",
    "\n",
    "        colour_bin_proba = (nn.Softmax(dim=1))(h8)\n",
    "        output = self.outputLayer(colour_bin_proba)\n",
    "        upscaled_output = (nn.Upsample(scale_factor=4, mode='bilinear'))(output) # bilinear upscale to agree with input image size \n",
    "\n",
    "        return upscaled_output * self.ab_norm # denormalize to cover whole ab value range\n",
    "        \n",
    "colCNN = ColorizationCNN()"
   ]
  },
  {
   "cell_type": "markdown",
   "metadata": {},
   "source": [
    "## Define optimizer"
   ]
  },
  {
   "cell_type": "code",
   "execution_count": null,
   "metadata": {},
   "outputs": [],
   "source": [
    "#ADAM\n",
    "initial_lr = 3e-5\n",
    "optimizer = torch.optim.Adam(colCNN.parameters(),lr = initial_lr , weight_decay=1e-3)\n",
    "# lr will be decreased further when loss plateaus in the training loop. "
   ]
  },
  {
   "cell_type": "markdown",
   "metadata": {},
   "source": [
    "## Define Loss"
   ]
  },
  {
   "cell_type": "markdown",
   "metadata": {},
   "source": [
    "### Soft encoding"
   ]
  },
  {
   "cell_type": "code",
   "execution_count": null,
   "metadata": {},
   "outputs": [],
   "source": [
    "#Convert a true image Y[HxWx2] to pixels color distributions Z[HxWxQ] (soft encoding)\n",
    "\n",
    "# Define a distance measure bewteen two colors (a,b).\n",
    "colorDistance = lambda c1, c2: np.sqrt((c1[0]-c2[0])**2 + (c1[1]-c2[1])**2)\n",
    "\n",
    "\n",
    "# Define a Gaussian kernel.\n",
    "def gaussianKernel(distances):\n",
    "    sigma = 5\n",
    "    weights = np.exp(-(distances**2) / sigma)\n",
    "    return weights\n",
    "\n",
    "\n",
    "def getColorDistribution(Y,nbOfNeighbors):\n",
    "    # Initiate a tensor to store the distributions produced from Y.\n",
    "    Z = torch.zeros(Y.shape[0], Y.shape[1], Q)\n",
    "\n",
    "    # Produce a color distribution for each pixel of the image.\n",
    "    for h in range (Z.shape[0]):\n",
    "        for w in range (Z.shape[1]):\n",
    "            color_true = Y[h][w]\n",
    "            distances = np.array([colorDistance(color,color_true) for color in inGamutColors])\n",
    "            nearestNeighborsIndexs = (-distances).argsort()[:nbOfNeighbors]\n",
    "            weights = gaussianKernel(distances[nearestNeighborsIndexs])\n",
    "            for i in range (weights.size):\n",
    "                Z[h][w][nearestNeighborsIndexs[i]] = weights[i]\n",
    "    \n",
    "    # Return the produced distributions.\n",
    "    return Z"
   ]
  },
  {
   "cell_type": "markdown",
   "metadata": {},
   "source": [
    "### Point estimate"
   ]
  },
  {
   "cell_type": "code",
   "execution_count": null,
   "metadata": {},
   "outputs": [],
   "source": [
    "#Convert the pixel color distributions in Z[HxWxQ] to true picture estimate Y[HxWx2] (point estimate)\n",
    "\n",
    "# No need to be very efficient because only use when we predict (after training) ? difficult to rewrite with tensor operation\n",
    "\n",
    "def getPictureEstimate(Z,T):\n",
    "    # Initiate a tensor to store the image estimated from Z.\n",
    "    Y_estimate = torch.zeros(Z.shape[0], Z.shape[1], 2)\n",
    "    \n",
    "    # Estimate the Lab color for each pixel of the image.\n",
    "    for h in range (Y_estimate.shape[0]):\n",
    "        for w in range (Y_estimate.shape[1]):\n",
    "            # Re-ajust the temperture of the current distribution.\n",
    "            reajustedDistribution = torch.exp(torch.log10(Z[h][w]) / T)  / torch.sum(torch.exp(torch.log10(Z[h][w]) / T), 2) # check again...\n",
    "\n",
    "            # Compute the anneled-mean of the current distribution. \n",
    "            a, b = 0, 0\n",
    "            for q in range (Z.shape[2]):\n",
    "                a += reajustedDistribution[q] * inGamutColors[q][0]\n",
    "                b += reajustedDistribution[q] * inGamutColors[q][1]\n",
    "            \n",
    "            # Estimate the Lab color for the current pixel.\n",
    "            Y_estimate[h][w][0] = a\n",
    "            Y_estimate[h][w][1] = b\n",
    "    \n",
    "    # Return the estimated picture.\n",
    "    return Y_estimate"
   ]
  },
  {
   "cell_type": "markdown",
   "metadata": {},
   "source": [
    "### Loss function"
   ]
  },
  {
   "cell_type": "code",
   "execution_count": null,
   "metadata": {},
   "outputs": [],
   "source": [
    "#v(Z_hw) weight in paper (section 2)\n",
    "\n",
    "def getPixelsWeights(Z):\n",
    "    W = torch.argmax(Z, dim=2)\n",
    "    for i in range(W.size(dim=0)):\n",
    "        for j in range(W.size(dim=1)):\n",
    "            W[i,j] = pixelsWeights(W[i,j])\n",
    "\n",
    "    return W"
   ]
  },
  {
   "cell_type": "code",
   "execution_count": null,
   "metadata": {},
   "outputs": [],
   "source": [
    "#loss function \n",
    "\n",
    "def multinomialCrossEntropyLoss(Z_estimate, Z):\n",
    "    W = getPixelsWeights(Z)\n",
    "    L = - sum(W * torch.sum(Z * torch.log10(Z_estimate), dim=2))\n",
    "\n",
    "    return L"
   ]
  },
  {
   "cell_type": "markdown",
   "metadata": {},
   "source": [
    "## Main training loop and additional function TBD"
   ]
  },
  {
   "cell_type": "markdown",
   "metadata": {},
   "source": [
    "Define a trining step: for each image in a batch : prediction, loss, backprop loss"
   ]
  },
  {
   "cell_type": "code",
   "execution_count": null,
   "metadata": {},
   "outputs": [],
   "source": [
    "def training_step(optim,loss_fct,network,dataloader):\n",
    "\n",
    "    iteration_losses = []\n",
    "\n",
    "    for image in dataloader:\n",
    "\n",
    "        predicted_colour_probability = network.forward(image)\n",
    "        loss = loss_fct(predicted_colour_probability,getColorDistribution(data))\n",
    "        iteration_losses.append(loss.item())\n",
    "\n",
    "        optim.zero_grad() \n",
    "        loss.backward()\n",
    "        optim.step()\n",
    "\n",
    "    return sum(iteration_losses) / len(iteration_losses) # average loss of training iteration"
   ]
  },
  {
   "cell_type": "code",
   "execution_count": null,
   "metadata": {},
   "outputs": [],
   "source": [
    "nb_steps = 1000\n",
    "losses = np.zeros(nb_steps)\n",
    "\n",
    "\n",
    "for step in range(nb_steps):\n",
    "    print('step :',step,end='\\r')\n",
    "    losses[step] = training_step(optimizer,multinomialCrossEntropyLoss,colCNN,loader)\n"
   ]
  },
  {
   "cell_type": "markdown",
   "metadata": {},
   "source": [
    "Plot losses"
   ]
  },
  {
   "cell_type": "code",
   "execution_count": null,
   "metadata": {},
   "outputs": [],
   "source": [
    "x_axis = range(1,nb_steps)\n",
    "plt.plot(x_axis,losses, label=\"train loss\")\n",
    "\n",
    "plt.xlabel('number of training steps')\n",
    "plt.ylabel('avg loss')\n",
    "plt.title('multinomial cross entropy loss')\n",
    "plt.legend()\n",
    "plt.show()"
   ]
  },
  {
   "cell_type": "markdown",
   "metadata": {},
   "source": [
    "Show the neural network colorization of a specific image vs the real colors of that image"
   ]
  }
 ],
 "metadata": {
  "kernelspec": {
   "display_name": "Python 3 (ipykernel)",
   "language": "python",
   "name": "python3"
  },
  "language_info": {
   "codemirror_mode": {
    "name": "ipython",
    "version": 3
   },
   "file_extension": ".py",
   "mimetype": "text/x-python",
   "name": "python",
   "nbconvert_exporter": "python",
   "pygments_lexer": "ipython3",
   "version": "3.8.5"
  },
  "vscode": {
   "interpreter": {
    "hash": "3656675e5c9ddbad44bbaefbc4c978fb0abed373f282a0307983d4ade1822146"
   }
  }
 },
 "nbformat": 4,
 "nbformat_minor": 2
}
