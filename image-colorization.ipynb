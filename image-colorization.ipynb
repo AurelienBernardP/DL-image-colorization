{
 "cells": [
  {
   "cell_type": "markdown",
   "metadata": {},
   "source": [
    "Image colorization project :\n",
    "We train a CNN to take in greyscale images of ... and output their colorful and plausible colorization."
   ]
  },
  {
   "cell_type": "markdown",
   "metadata": {},
   "source": [
    "Imports required :\n",
    "\n",
    "torch\n",
    "\n",
    "skimage ? only used for rgb - lab parsing. Maybe we can do that ourselves to make some differentiation with the original project?\n",
    "\n",
    "numpy\n",
    "\n",
    "matplotlib\n",
    "\n",
    "PIL ? only used to open images to rgb. We can use another library"
   ]
  },
  {
   "cell_type": "code",
   "execution_count": 2,
   "metadata": {},
   "outputs": [],
   "source": [
    "import matplotlib.pyplot as plt \n",
    "import numpy as np\n",
    "from PIL import Image\n",
    "#from skimage import color\n",
    "\n",
    "import torch\n",
    "import torch.nn as nn\n",
    "import torch.utils.data as data\n",
    "import torch.nn.functional as F"
   ]
  },
  {
   "cell_type": "markdown",
   "metadata": {},
   "source": [
    "Load data, augment it, transform it to LAB compute stats on colors"
   ]
  },
  {
   "cell_type": "code",
   "execution_count": 10,
   "metadata": {},
   "outputs": [],
   "source": [
    "#Data loading "
   ]
  },
  {
   "cell_type": "code",
   "execution_count": 11,
   "metadata": {},
   "outputs": [],
   "source": [
    "#LAB transform"
   ]
  },
  {
   "cell_type": "code",
   "execution_count": 27,
   "metadata": {},
   "outputs": [],
   "source": [
    "#Color stats\n",
    "\n",
    "Q = 10 # to find\n",
    "p = torch.rand(10) # to find\n"
   ]
  },
  {
   "cell_type": "code",
   "execution_count": 28,
   "metadata": {},
   "outputs": [],
   "source": [
    "#Define pixel weight vector (class rebalancing)\n",
    "\n",
    "# Set the parameters (from paper, need empirical value).\n",
    "lambda_uniform = 1/2 \n",
    "sigma = 5 # gaussian kernel parameter\n",
    "\n",
    "# Compute a smooth version of the empirical pixel color distribution.\n",
    "p_smooth = p # how to do that ? gaussian kernel ? to do\n",
    "\n",
    "# Compute the weight vector.\n",
    "pixelsWeights = torch.reciprocal((1 - lambda_uniform) * p_smooth + lambda_uniform / Q)\n",
    "\n",
    "# Normalise the weight vector according to p_smooth (E[W] = 1).\n",
    "E_W = torch.sum(p_smooth * pixelsWeights)\n",
    "scale_factor = 1 / E_W\n",
    "pixelsWeights = scale_factor * pixelsWeights "
   ]
  },
  {
   "cell_type": "markdown",
   "metadata": {},
   "source": [
    "Define and instantiate Convolutional NN consistent with the description of the paper. Shown in table 4."
   ]
  },
  {
   "cell_type": "code",
   "execution_count": 4,
   "metadata": {},
   "outputs": [],
   "source": [
    "#NN def\n",
    "\n",
    "from cv2 import dilate\n",
    "\n",
    "\n",
    "class ColorizationCNN(nn.Module):\n",
    "    def __init__(self):\n",
    "        super().__init__()\n",
    "\n",
    "        self.l_cent = 50.\n",
    "        self.l_norm = 100.\n",
    "        self.ab_norm = 110.\n",
    "        \n",
    "        channels_block_1 = 64\n",
    "        channels_block_2 = 128\n",
    "        channels_block_3 = 256\n",
    "        channels_block_4 = 512\n",
    "        channels_block_5 = 512 #dilated\n",
    "        channels_block_6 = 512 #dilated\n",
    "        channels_block_7 = 512 \n",
    "        channels_block_8 = 128 # transpose convolution necessary\n",
    "\n",
    "        nb_colour_bins = 313\n",
    "        # first conv block : 2 convs. from luminosity image to 64 features map from 3x3 kernels. 50% downsampling and normalization at the end.\n",
    "        self.convBlock1 = nn.Sequential(nn.Conv2d(1,channels_block_1,(3,3), padding =1), \n",
    "                nn.ReLU(True), #inplace for memory efficiency can be used as no skip connections are used.\n",
    "                nn.Conv2d(channels_block_1,channels_block_1,(3,3), padding =1,stride=2), #50% downsampling achieved with a 2 stride. \n",
    "                nn.Relu(True),\n",
    "                nn.BatchNorm2d(channels_block_1) #normalization over the 64 channels created\n",
    "        )\n",
    "\n",
    "        # second conv block. 2 covs. from 64 features to 128 features map from 3x3 kernels. 50% downsampling and normalization at the end.\n",
    "        self.convBlock2 = nn.Sequential(nn.Conv2d(64,channels_block_2,(3,3), padding =1,), \n",
    "                nn.ReLU(True),\n",
    "                nn.Conv2d(channels_block_2,channels_block_2,(3,3), padding =1,stride=2), #50% downsampling achieved with a 2 stride. \n",
    "                nn.ReLU(True),\n",
    "                nn.BatchNorm2d(channels_block_2)\n",
    "        )\n",
    "\n",
    "        # third conv block. 3 convs. from 64 to 128 features map from 3x3 kernels. 50% downsampling and normalization at the end.\n",
    "        self.convBlock3 = nn.Sequential(nn.Conv2d(channels_block_2,channels_block_3,(3,3), padding =1,), \n",
    "                nn.ReLU(True),\n",
    "                nn.Conv2d(channels_block_3,channels_block_3,(3,3), padding =1),\n",
    "                nn.ReLU(True),\n",
    "                nn.Conv2d(channels_block_3,channels_block_3,(3,3), padding =1,stride=2), #50% downsampling achieved with a 2 stride. \n",
    "                nn.ReLU(True),\n",
    "                nn.BatchNorm2d(channels_block_3)\n",
    "        )\n",
    "\n",
    "        # fourth conv block. 3 convs. from 256 to 512 features map from 3x3 kernels. 50% downsampling and normalization at the end.\n",
    "        self.convBlock4 = nn.Sequential(nn.Conv2d(channels_block_3,channels_block_4,(3,3), padding =1,),\n",
    "                nn.ReLU(True),\n",
    "                nn.Conv2d(channels_block_4,channels_block_4,(3,3), padding =1),\n",
    "                nn.ReLU(True),\n",
    "                nn.Conv2d(channels_block_4,channels_block_4,(3,3), padding =1), #50% downsampling achieved with a 2 stride. \n",
    "                nn.ReLU(True),\n",
    "                nn.BatchNorm2d(channels_block_4)\n",
    "        )\n",
    "        \n",
    "        #fifth conv block. 3 convs. no change in nb feature maps. 3x3 kernels with 2 dilation and 2 padding to not downscale. normalization at the end.\n",
    "\n",
    "        self.convBlock5 = nn.Sequential(nn.Conv2d(channels_block_4,channels_block_5,(3,3),dilation=2,padding=2),\n",
    "                nn.ReLU(True),\n",
    "                nn.Conv2d(channels_block_5,channels_block_5,(3,3),dilation=2,padding=2),\n",
    "                nn.ReLU(True),\n",
    "                nn.Conv2d(channels_block_5,channels_block_5,(3,3),dilation=2,padding=2), #50% downsampling achieved with a 2 stride. \n",
    "                nn.ReLU(True),\n",
    "                nn.BatchNorm2d(channels_block_5)\n",
    "        )\n",
    "\n",
    "        #sixth conv block. same as 5\n",
    "        self.convBlock6 = nn.Sequential(nn.Conv2d(channels_block_5,channels_block_6,(3,3),dilation=2,padding=2),\n",
    "                nn.ReLU(True),\n",
    "                nn.Conv2d(channels_block_6,channels_block_6,(3,3),dilation=2,padding=2),\n",
    "                nn.ReLU(True),\n",
    "                nn.Conv2d(channels_block_6,channels_block_6,(3,3),dilation=2,padding=2), #50% downsampling achieved with a 2 stride. \n",
    "                nn.ReLU(True),\n",
    "                nn.BatchNorm2d(channels_block_6)\n",
    "        )\n",
    "\n",
    "        #seventh conv block : 3 convs with 3x3 kernels.\n",
    "        self.convBlock7 = nn.Sequential(nn.Conv2d(channels_block_6,channels_block_7,(3,3),padding =1,),\n",
    "                nn.ReLU(True),\n",
    "                nn.Conv2d(channels_block_7,channels_block_7,(3,3),padding =1,),\n",
    "                nn.ReLU(True),\n",
    "                nn.Conv2d(channels_block_7,channels_block_7,(3,3),padding =1,), #50% downsampling achieved with a 2 stride. \n",
    "                nn.ReLU(True),\n",
    "                nn.BatchNorm2d(channels_block_7)\n",
    "        )\n",
    "\n",
    "        #eighth conv block : 1 inverse conv to upsample then 2 convs with 3x3 kernels default parameters. Final convolution with 1x1 for classification into a colour bin\n",
    "        self.convBlock8 = nn.Sequential(nn.ConvTranspose2d(channels_block_7,channels_block_8,(4,4),stride = 2, padding =1),\n",
    "                nn.ReLU(True),\n",
    "                nn.Conv2d(channels_block_8,channels_block_8,(3,3),padding = 1),\n",
    "                nn.ReLU(True),\n",
    "                nn.Conv2d(channels_block_8,channels_block_8,(3,3),padding = 1), #50% downsampling achieved with a 2 stride. \n",
    "                nn.ReLU(True),\n",
    "                nn.Conv2d(channels_block_8,nb_colour_bins,kernel_size=1) #1x1 kernel for classification in each colour bin (value will be soft maxed for probability)\n",
    "        )\n",
    "\n",
    "        self.outputLayer = nn.Conv2d(nb_colour_bins,2,kernel_size=1,dilation=1, bias = False) # 1x1 kernel to get 2 channel values of a and b respectively\n",
    "    \n",
    "    def forward(self, luminosity_image):\n",
    "        h1 = self.convBlock1((luminosity_image-self.l_cent)/self.l_norm) #normalize luminosity to be on scale of 0 to 100\n",
    "        h2 = self.convBlock2(h1)\n",
    "        h3 = self.convBlock3(h2)\n",
    "        h4 = self.convBlock4(h3)\n",
    "        h5 = self.convBlock5(h4)\n",
    "        h6 = self.convBlock6(h5)\n",
    "        h7 = self.convBlock7(h6)\n",
    "        h8 = self.convBlock8(h7)\n",
    "\n",
    "        colour_bin_proba = (nn.Softmax(dim=1))(h8)\n",
    "        output = self.outputLayer(colour_bin_proba)\n",
    "        upscaled_output = (nn.Upsample(scale_factor=4, mode='bilinear'))(output) # bilinear upscale to agree with input image size \n",
    "\n",
    "        return upscaled_output * self.ab_norm # denormalize to cover whole ab value range\n",
    "        \n"
   ]
  },
  {
   "cell_type": "markdown",
   "metadata": {},
   "source": [
    "Define optimizer"
   ]
  },
  {
   "cell_type": "code",
   "execution_count": 14,
   "metadata": {},
   "outputs": [],
   "source": [
    "#ADAM\n"
   ]
  },
  {
   "cell_type": "markdown",
   "metadata": {},
   "source": [
    "Define Loss"
   ]
  },
  {
   "cell_type": "code",
   "execution_count": 20,
   "metadata": {},
   "outputs": [],
   "source": [
    "# v(Z_hw) weight in paper (section 2)\n",
    "\n",
    "def getPixelsWeights(Z):\n",
    "    W = torch.argmax(Z, dim=2)\n",
    "    for i in range(W.size(dim=0)):\n",
    "        for j in range(W.size(dim=1)):\n",
    "            W[i,j] = pixelsWeights(W[i,j])\n",
    "\n",
    "    return W\n"
   ]
  },
  {
   "cell_type": "code",
   "execution_count": 21,
   "metadata": {},
   "outputs": [],
   "source": [
    "#loss function \n",
    "\n",
    "def multinomialCrossEntropyLoss(Z_estimate, Z):\n",
    "    W = getPixelsWeights(Z)\n",
    "    L = - sum(W * torch.sum(Z * torch.log10(Z_estimate), dim=2))\n",
    "\n",
    "    return L\n",
    "    \n"
   ]
  },
  {
   "cell_type": "markdown",
   "metadata": {},
   "source": [
    "Main training loop and additional function TBD"
   ]
  },
  {
   "cell_type": "code",
   "execution_count": null,
   "metadata": {},
   "outputs": [],
   "source": []
  }
 ],
 "metadata": {
  "kernelspec": {
   "display_name": "Python 3.10.4 ('deep_learning')",
   "language": "python",
   "name": "python3"
  },
  "language_info": {
   "codemirror_mode": {
    "name": "ipython",
    "version": 3
   },
   "file_extension": ".py",
   "mimetype": "text/x-python",
   "name": "python",
   "nbconvert_exporter": "python",
   "pygments_lexer": "ipython3",
   "version": "3.10.4"
  },
  "orig_nbformat": 4,
  "vscode": {
   "interpreter": {
    "hash": "464699cf85eadd29f123288e0bb2f83c79f3ce7e20f2c87b57abaa5e0b3edf52"
   }
  }
 },
 "nbformat": 4,
 "nbformat_minor": 2
}
